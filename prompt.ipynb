{
  "cells": [
    {
      "cell_type": "markdown",
      "metadata": {
        "id": "CcUT6Fon_qRE"
      },
      "source": [
        "### Required Assignment 5.1: Will the Customer Accept the Coupon?\n",
        "\n",
        "**Context**\n",
        "\n",
        "Imagine driving through town and a coupon is delivered to your cell phone for a restaurant near where you are driving. Would you accept that coupon and take a short detour to the restaurant? Would you accept the coupon but use it on a subsequent trip? Would you ignore the coupon entirely? What if the coupon was for a bar instead of a restaurant? What about a coffee house? Would you accept a bar coupon with a minor passenger in the car? What about if it was just you and your partner in the car? Would weather impact the rate of acceptance? What about the time of day?\n",
        "\n",
        "Obviously, proximity to the business is a factor on whether the coupon is delivered to the driver or not, but what are the factors that determine whether a driver accepts the coupon once it is delivered to them? How would you determine whether a driver is likely to accept a coupon?\n",
        "\n",
        "**Overview**\n",
        "\n",
        "The goal of this project is to use what you know about visualizations and probability distributions to distinguish between customers who accepted a driving coupon versus those that did not.\n",
        "\n",
        "**Data**\n",
        "\n",
        "This data comes to us from the UCI Machine Learning repository and was collected via a survey on Amazon Mechanical Turk. The survey describes different driving scenarios including the destination, current time, weather, passenger, etc., and then ask the person whether he will accept the coupon if he is the driver. Answers that the user will drive there ‘right away’ or ‘later before the coupon expires’ are labeled as ‘Y = 1’ and answers ‘no, I do not want the coupon’ are labeled as ‘Y = 0’.  There are five different types of coupons -- less expensive restaurants (under \\$20), coffee houses, carry out & take away, bar, and more expensive restaurants (\\$20 - $50)."
      ]
    },
    {
      "cell_type": "markdown",
      "metadata": {
        "id": "1wORvMBJ_qRF"
      },
      "source": [
        "**Deliverables**\n",
        "\n",
        "Your final product should be a brief report that highlights the differences between customers who did and did not accept the coupons.  To explore the data you will utilize your knowledge of plotting, statistical summaries, and visualization using Python. You will publish your findings in a public facing github repository as your first portfolio piece.\n",
        "\n",
        "\n",
        "\n"
      ]
    },
    {
      "cell_type": "markdown",
      "metadata": {
        "id": "pG6_Ym6q_qRG"
      },
      "source": [
        "### Data Description\n",
        "Keep in mind that these values mentioned below are average values.\n",
        "\n",
        "The attributes of this data set include:\n",
        "1. User attributes\n",
        "    -  Gender: male, female\n",
        "    -  Age: below 21, 21 to 25, 26 to 30, etc.\n",
        "    -  Marital Status: single, married partner, unmarried partner, or widowed\n",
        "    -  Number of children: 0, 1, or more than 1\n",
        "    -  Education: high school, bachelors degree, associates degree, or graduate degree\n",
        "    -  Occupation: architecture & engineering, business & financial, etc.\n",
        "    -  Annual income: less than \\\\$12500, \\\\$12500 - \\\\$24999, \\\\$25000 - \\\\$37499, etc.\n",
        "    -  Number of times that he/she goes to a bar: 0, less than 1, 1 to 3, 4 to 8 or greater than 8\n",
        "    -  Number of times that he/she buys takeaway food: 0, less than 1, 1 to 3, 4 to 8 or greater\n",
        "    than 8\n",
        "    -  Number of times that he/she goes to a coffee house: 0, less than 1, 1 to 3, 4 to 8 or\n",
        "    greater than 8\n",
        "    -  Number of times that he/she eats at a restaurant with average expense less than \\\\$20 per\n",
        "    person: 0, less than 1, 1 to 3, 4 to 8 or greater than 8\n",
        "    -  Number of times that he/she goes to a bar: 0, less than 1, 1 to 3, 4 to 8 or greater than 8\n",
        "    \n",
        "\n",
        "2. Contextual attributes\n",
        "    - Driving destination: home, work, or no urgent destination\n",
        "    - Location of user, coupon and destination: we provide a map to show the geographical\n",
        "    location of the user, destination, and the venue, and we mark the distance between each\n",
        "    two places with time of driving. The user can see whether the venue is in the same\n",
        "    direction as the destination.\n",
        "    - Weather: sunny, rainy, or snowy\n",
        "    - Temperature: 30F, 55F, or 80F\n",
        "    - Time: 10AM, 2PM, or 6PM\n",
        "    - Passenger: alone, partner, kid(s), or friend(s)\n",
        "\n",
        "\n",
        "3. Coupon attributes\n",
        "    - time before it expires: 2 hours or one day"
      ]
    },
    {
      "cell_type": "code",
      "execution_count": 1,
      "metadata": {
        "id": "dzNoP3o__qRG"
      },
      "outputs": [],
      "source": [
        "import matplotlib.pyplot as plt\n",
        "import seaborn as sns\n",
        "import pandas as pd\n",
        "import numpy as np\n",
        "\n",
        "pd.set_option('display.max_columns', None)"
      ]
    },
    {
      "cell_type": "markdown",
      "metadata": {
        "id": "Ct8pI1uE_qRG"
      },
      "source": [
        "### Problems\n",
        "\n",
        "Use the prompts below to get started with your data analysis.  \n",
        "\n",
        "1. Read in the `coupons.csv` file.\n",
        "\n",
        "\n"
      ]
    },
    {
      "cell_type": "code",
      "execution_count": 2,
      "metadata": {
        "id": "X0vbffYg_qRH"
      },
      "outputs": [],
      "source": [
        "data = pd.read_csv('/Users/neelbardhan/Desktop/assignment5_1_starter/data/coupons.csv')"
      ]
    },
    {
      "cell_type": "code",
      "execution_count": 3,
      "metadata": {
        "id": "TXofQ_DF_qRH",
        "outputId": "2fc96a2c-1112-4b54-f24f-dbb9bc88abfb"
      },
      "outputs": [
        {
          "data": {
            "text/html": [
              "<div>\n",
              "<style scoped>\n",
              "    .dataframe tbody tr th:only-of-type {\n",
              "        vertical-align: middle;\n",
              "    }\n",
              "\n",
              "    .dataframe tbody tr th {\n",
              "        vertical-align: top;\n",
              "    }\n",
              "\n",
              "    .dataframe thead th {\n",
              "        text-align: right;\n",
              "    }\n",
              "</style>\n",
              "<table border=\"1\" class=\"dataframe\">\n",
              "  <thead>\n",
              "    <tr style=\"text-align: right;\">\n",
              "      <th></th>\n",
              "      <th>destination</th>\n",
              "      <th>passanger</th>\n",
              "      <th>weather</th>\n",
              "      <th>temperature</th>\n",
              "      <th>time</th>\n",
              "      <th>coupon</th>\n",
              "      <th>expiration</th>\n",
              "      <th>gender</th>\n",
              "      <th>age</th>\n",
              "      <th>maritalStatus</th>\n",
              "      <th>has_children</th>\n",
              "      <th>education</th>\n",
              "      <th>occupation</th>\n",
              "      <th>income</th>\n",
              "      <th>car</th>\n",
              "      <th>Bar</th>\n",
              "      <th>CoffeeHouse</th>\n",
              "      <th>CarryAway</th>\n",
              "      <th>RestaurantLessThan20</th>\n",
              "      <th>Restaurant20To50</th>\n",
              "      <th>toCoupon_GEQ5min</th>\n",
              "      <th>toCoupon_GEQ15min</th>\n",
              "      <th>toCoupon_GEQ25min</th>\n",
              "      <th>direction_same</th>\n",
              "      <th>direction_opp</th>\n",
              "      <th>Y</th>\n",
              "    </tr>\n",
              "  </thead>\n",
              "  <tbody>\n",
              "    <tr>\n",
              "      <th>0</th>\n",
              "      <td>No Urgent Place</td>\n",
              "      <td>Alone</td>\n",
              "      <td>Sunny</td>\n",
              "      <td>55</td>\n",
              "      <td>2PM</td>\n",
              "      <td>Restaurant(&lt;20)</td>\n",
              "      <td>1d</td>\n",
              "      <td>Female</td>\n",
              "      <td>21</td>\n",
              "      <td>Unmarried partner</td>\n",
              "      <td>1</td>\n",
              "      <td>Some college - no degree</td>\n",
              "      <td>Unemployed</td>\n",
              "      <td>$37500 - $49999</td>\n",
              "      <td>NaN</td>\n",
              "      <td>never</td>\n",
              "      <td>never</td>\n",
              "      <td>NaN</td>\n",
              "      <td>4~8</td>\n",
              "      <td>1~3</td>\n",
              "      <td>1</td>\n",
              "      <td>0</td>\n",
              "      <td>0</td>\n",
              "      <td>0</td>\n",
              "      <td>1</td>\n",
              "      <td>1</td>\n",
              "    </tr>\n",
              "    <tr>\n",
              "      <th>1</th>\n",
              "      <td>No Urgent Place</td>\n",
              "      <td>Friend(s)</td>\n",
              "      <td>Sunny</td>\n",
              "      <td>80</td>\n",
              "      <td>10AM</td>\n",
              "      <td>Coffee House</td>\n",
              "      <td>2h</td>\n",
              "      <td>Female</td>\n",
              "      <td>21</td>\n",
              "      <td>Unmarried partner</td>\n",
              "      <td>1</td>\n",
              "      <td>Some college - no degree</td>\n",
              "      <td>Unemployed</td>\n",
              "      <td>$37500 - $49999</td>\n",
              "      <td>NaN</td>\n",
              "      <td>never</td>\n",
              "      <td>never</td>\n",
              "      <td>NaN</td>\n",
              "      <td>4~8</td>\n",
              "      <td>1~3</td>\n",
              "      <td>1</td>\n",
              "      <td>0</td>\n",
              "      <td>0</td>\n",
              "      <td>0</td>\n",
              "      <td>1</td>\n",
              "      <td>0</td>\n",
              "    </tr>\n",
              "    <tr>\n",
              "      <th>2</th>\n",
              "      <td>No Urgent Place</td>\n",
              "      <td>Friend(s)</td>\n",
              "      <td>Sunny</td>\n",
              "      <td>80</td>\n",
              "      <td>10AM</td>\n",
              "      <td>Carry out &amp; Take away</td>\n",
              "      <td>2h</td>\n",
              "      <td>Female</td>\n",
              "      <td>21</td>\n",
              "      <td>Unmarried partner</td>\n",
              "      <td>1</td>\n",
              "      <td>Some college - no degree</td>\n",
              "      <td>Unemployed</td>\n",
              "      <td>$37500 - $49999</td>\n",
              "      <td>NaN</td>\n",
              "      <td>never</td>\n",
              "      <td>never</td>\n",
              "      <td>NaN</td>\n",
              "      <td>4~8</td>\n",
              "      <td>1~3</td>\n",
              "      <td>1</td>\n",
              "      <td>1</td>\n",
              "      <td>0</td>\n",
              "      <td>0</td>\n",
              "      <td>1</td>\n",
              "      <td>1</td>\n",
              "    </tr>\n",
              "    <tr>\n",
              "      <th>3</th>\n",
              "      <td>No Urgent Place</td>\n",
              "      <td>Friend(s)</td>\n",
              "      <td>Sunny</td>\n",
              "      <td>80</td>\n",
              "      <td>2PM</td>\n",
              "      <td>Coffee House</td>\n",
              "      <td>2h</td>\n",
              "      <td>Female</td>\n",
              "      <td>21</td>\n",
              "      <td>Unmarried partner</td>\n",
              "      <td>1</td>\n",
              "      <td>Some college - no degree</td>\n",
              "      <td>Unemployed</td>\n",
              "      <td>$37500 - $49999</td>\n",
              "      <td>NaN</td>\n",
              "      <td>never</td>\n",
              "      <td>never</td>\n",
              "      <td>NaN</td>\n",
              "      <td>4~8</td>\n",
              "      <td>1~3</td>\n",
              "      <td>1</td>\n",
              "      <td>1</td>\n",
              "      <td>0</td>\n",
              "      <td>0</td>\n",
              "      <td>1</td>\n",
              "      <td>0</td>\n",
              "    </tr>\n",
              "    <tr>\n",
              "      <th>4</th>\n",
              "      <td>No Urgent Place</td>\n",
              "      <td>Friend(s)</td>\n",
              "      <td>Sunny</td>\n",
              "      <td>80</td>\n",
              "      <td>2PM</td>\n",
              "      <td>Coffee House</td>\n",
              "      <td>1d</td>\n",
              "      <td>Female</td>\n",
              "      <td>21</td>\n",
              "      <td>Unmarried partner</td>\n",
              "      <td>1</td>\n",
              "      <td>Some college - no degree</td>\n",
              "      <td>Unemployed</td>\n",
              "      <td>$37500 - $49999</td>\n",
              "      <td>NaN</td>\n",
              "      <td>never</td>\n",
              "      <td>never</td>\n",
              "      <td>NaN</td>\n",
              "      <td>4~8</td>\n",
              "      <td>1~3</td>\n",
              "      <td>1</td>\n",
              "      <td>1</td>\n",
              "      <td>0</td>\n",
              "      <td>0</td>\n",
              "      <td>1</td>\n",
              "      <td>0</td>\n",
              "    </tr>\n",
              "  </tbody>\n",
              "</table>\n",
              "</div>"
            ],
            "text/plain": [
              "       destination  passanger weather  temperature  time  \\\n",
              "0  No Urgent Place      Alone   Sunny           55   2PM   \n",
              "1  No Urgent Place  Friend(s)   Sunny           80  10AM   \n",
              "2  No Urgent Place  Friend(s)   Sunny           80  10AM   \n",
              "3  No Urgent Place  Friend(s)   Sunny           80   2PM   \n",
              "4  No Urgent Place  Friend(s)   Sunny           80   2PM   \n",
              "\n",
              "                  coupon expiration  gender age      maritalStatus  \\\n",
              "0        Restaurant(<20)         1d  Female  21  Unmarried partner   \n",
              "1           Coffee House         2h  Female  21  Unmarried partner   \n",
              "2  Carry out & Take away         2h  Female  21  Unmarried partner   \n",
              "3           Coffee House         2h  Female  21  Unmarried partner   \n",
              "4           Coffee House         1d  Female  21  Unmarried partner   \n",
              "\n",
              "   has_children                 education  occupation           income  car  \\\n",
              "0             1  Some college - no degree  Unemployed  $37500 - $49999  NaN   \n",
              "1             1  Some college - no degree  Unemployed  $37500 - $49999  NaN   \n",
              "2             1  Some college - no degree  Unemployed  $37500 - $49999  NaN   \n",
              "3             1  Some college - no degree  Unemployed  $37500 - $49999  NaN   \n",
              "4             1  Some college - no degree  Unemployed  $37500 - $49999  NaN   \n",
              "\n",
              "     Bar CoffeeHouse CarryAway RestaurantLessThan20 Restaurant20To50  \\\n",
              "0  never       never       NaN                  4~8              1~3   \n",
              "1  never       never       NaN                  4~8              1~3   \n",
              "2  never       never       NaN                  4~8              1~3   \n",
              "3  never       never       NaN                  4~8              1~3   \n",
              "4  never       never       NaN                  4~8              1~3   \n",
              "\n",
              "   toCoupon_GEQ5min  toCoupon_GEQ15min  toCoupon_GEQ25min  direction_same  \\\n",
              "0                 1                  0                  0               0   \n",
              "1                 1                  0                  0               0   \n",
              "2                 1                  1                  0               0   \n",
              "3                 1                  1                  0               0   \n",
              "4                 1                  1                  0               0   \n",
              "\n",
              "   direction_opp  Y  \n",
              "0              1  1  \n",
              "1              1  0  \n",
              "2              1  1  \n",
              "3              1  0  \n",
              "4              1  0  "
            ]
          },
          "execution_count": 3,
          "metadata": {},
          "output_type": "execute_result"
        }
      ],
      "source": [
        "data.head()"
      ]
    },
    {
      "cell_type": "markdown",
      "metadata": {
        "id": "GcDs78ZH_qRH"
      },
      "source": [
        "2. Investigate the dataset for missing or problematic data."
      ]
    },
    {
      "cell_type": "code",
      "execution_count": 4,
      "metadata": {
        "id": "6CwL6oWj_qRH"
      },
      "outputs": [
        {
          "data": {
            "text/plain": [
              "(12684, 26)"
            ]
          },
          "execution_count": 4,
          "metadata": {},
          "output_type": "execute_result"
        }
      ],
      "source": [
        "data.shape\n"
      ]
    },
    {
      "cell_type": "code",
      "execution_count": 5,
      "metadata": {},
      "outputs": [
        {
          "name": "stdout",
          "output_type": "stream",
          "text": [
            "<class 'pandas.core.frame.DataFrame'>\n",
            "RangeIndex: 12684 entries, 0 to 12683\n",
            "Data columns (total 26 columns):\n",
            " #   Column                Non-Null Count  Dtype \n",
            "---  ------                --------------  ----- \n",
            " 0   destination           12684 non-null  object\n",
            " 1   passanger             12684 non-null  object\n",
            " 2   weather               12684 non-null  object\n",
            " 3   temperature           12684 non-null  int64 \n",
            " 4   time                  12684 non-null  object\n",
            " 5   coupon                12684 non-null  object\n",
            " 6   expiration            12684 non-null  object\n",
            " 7   gender                12684 non-null  object\n",
            " 8   age                   12684 non-null  object\n",
            " 9   maritalStatus         12684 non-null  object\n",
            " 10  has_children          12684 non-null  int64 \n",
            " 11  education             12684 non-null  object\n",
            " 12  occupation            12684 non-null  object\n",
            " 13  income                12684 non-null  object\n",
            " 14  car                   108 non-null    object\n",
            " 15  Bar                   12577 non-null  object\n",
            " 16  CoffeeHouse           12467 non-null  object\n",
            " 17  CarryAway             12533 non-null  object\n",
            " 18  RestaurantLessThan20  12554 non-null  object\n",
            " 19  Restaurant20To50      12495 non-null  object\n",
            " 20  toCoupon_GEQ5min      12684 non-null  int64 \n",
            " 21  toCoupon_GEQ15min     12684 non-null  int64 \n",
            " 22  toCoupon_GEQ25min     12684 non-null  int64 \n",
            " 23  direction_same        12684 non-null  int64 \n",
            " 24  direction_opp         12684 non-null  int64 \n",
            " 25  Y                     12684 non-null  int64 \n",
            "dtypes: int64(8), object(18)\n",
            "memory usage: 2.5+ MB\n"
          ]
        }
      ],
      "source": [
        "data.info()"
      ]
    },
    {
      "cell_type": "code",
      "execution_count": 6,
      "metadata": {},
      "outputs": [
        {
          "data": {
            "text/plain": [
              "destination                 0\n",
              "passanger                   0\n",
              "weather                     0\n",
              "temperature                 0\n",
              "time                        0\n",
              "coupon                      0\n",
              "expiration                  0\n",
              "gender                      0\n",
              "age                         0\n",
              "maritalStatus               0\n",
              "has_children                0\n",
              "education                   0\n",
              "occupation                  0\n",
              "income                      0\n",
              "car                     12576\n",
              "Bar                       107\n",
              "CoffeeHouse               217\n",
              "CarryAway                 151\n",
              "RestaurantLessThan20      130\n",
              "Restaurant20To50          189\n",
              "toCoupon_GEQ5min            0\n",
              "toCoupon_GEQ15min           0\n",
              "toCoupon_GEQ25min           0\n",
              "direction_same              0\n",
              "direction_opp               0\n",
              "Y                           0\n",
              "dtype: int64"
            ]
          },
          "execution_count": 6,
          "metadata": {},
          "output_type": "execute_result"
        }
      ],
      "source": [
        "data.isnull().sum()"
      ]
    },
    {
      "cell_type": "code",
      "execution_count": 7,
      "metadata": {},
      "outputs": [
        {
          "name": "stdout",
          "output_type": "stream",
          "text": [
            "destination\n",
            "No Urgent Place    6283\n",
            "Home               3237\n",
            "Work               3164\n",
            "Name: count, dtype: int64\n",
            "\n",
            "\n",
            "passanger\n",
            "Alone        7305\n",
            "Friend(s)    3298\n",
            "Partner      1075\n",
            "Kid(s)       1006\n",
            "Name: count, dtype: int64\n",
            "\n",
            "\n",
            "weather\n",
            "Sunny    10069\n",
            "Snowy     1405\n",
            "Rainy     1210\n",
            "Name: count, dtype: int64\n",
            "\n",
            "\n",
            "temperature\n",
            "80    6528\n",
            "55    3840\n",
            "30    2316\n",
            "Name: count, dtype: int64\n",
            "\n",
            "\n",
            "time\n",
            "6PM     3230\n",
            "7AM     3164\n",
            "10AM    2275\n",
            "2PM     2009\n",
            "10PM    2006\n",
            "Name: count, dtype: int64\n",
            "\n",
            "\n",
            "coupon\n",
            "Coffee House             3996\n",
            "Restaurant(<20)          2786\n",
            "Carry out & Take away    2393\n",
            "Bar                      2017\n",
            "Restaurant(20-50)        1492\n",
            "Name: count, dtype: int64\n",
            "\n",
            "\n",
            "expiration\n",
            "1d    7091\n",
            "2h    5593\n",
            "Name: count, dtype: int64\n",
            "\n",
            "\n",
            "gender\n",
            "Female    6511\n",
            "Male      6173\n",
            "Name: count, dtype: int64\n",
            "\n",
            "\n",
            "age\n",
            "21         2653\n",
            "26         2559\n",
            "31         2039\n",
            "50plus     1788\n",
            "36         1319\n",
            "41         1093\n",
            "46          686\n",
            "below21     547\n",
            "Name: count, dtype: int64\n",
            "\n",
            "\n",
            "maritalStatus\n",
            "Married partner      5100\n",
            "Single               4752\n",
            "Unmarried partner    2186\n",
            "Divorced              516\n",
            "Widowed               130\n",
            "Name: count, dtype: int64\n",
            "\n",
            "\n",
            "has_children\n",
            "0    7431\n",
            "1    5253\n",
            "Name: count, dtype: int64\n",
            "\n",
            "\n",
            "education\n",
            "Some college - no degree                  4351\n",
            "Bachelors degree                          4335\n",
            "Graduate degree (Masters or Doctorate)    1852\n",
            "Associates degree                         1153\n",
            "High School Graduate                       905\n",
            "Some High School                            88\n",
            "Name: count, dtype: int64\n",
            "\n",
            "\n",
            "occupation\n",
            "Unemployed                                   1870\n",
            "Student                                      1584\n",
            "Computer & Mathematical                      1408\n",
            "Sales & Related                              1093\n",
            "Education&Training&Library                    943\n",
            "Management                                    838\n",
            "Office & Administrative Support               639\n",
            "Arts Design Entertainment Sports & Media      629\n",
            "Business & Financial                          544\n",
            "Retired                                       495\n",
            "Food Preparation & Serving Related            298\n",
            "Healthcare Practitioners & Technical          244\n",
            "Healthcare Support                            242\n",
            "Community & Social Services                   241\n",
            "Legal                                         219\n",
            "Transportation & Material Moving              218\n",
            "Architecture & Engineering                    175\n",
            "Personal Care & Service                       175\n",
            "Protective Service                            175\n",
            "Life Physical Social Science                  170\n",
            "Construction & Extraction                     154\n",
            "Installation Maintenance & Repair             133\n",
            "Production Occupations                        110\n",
            "Building & Grounds Cleaning & Maintenance      44\n",
            "Farming Fishing & Forestry                     43\n",
            "Name: count, dtype: int64\n",
            "\n",
            "\n",
            "income\n",
            "$25000 - $37499     2013\n",
            "$12500 - $24999     1831\n",
            "$37500 - $49999     1805\n",
            "$100000 or More     1736\n",
            "$50000 - $62499     1659\n",
            "Less than $12500    1042\n",
            "$87500 - $99999      895\n",
            "$75000 - $87499      857\n",
            "$62500 - $74999      846\n",
            "Name: count, dtype: int64\n",
            "\n",
            "\n",
            "car\n",
            "NaN                                         12576\n",
            "Scooter and motorcycle                         22\n",
            "Mazda5                                         22\n",
            "do not drive                                   22\n",
            "crossover                                      21\n",
            "Car that is too old to install Onstar :D       21\n",
            "Name: count, dtype: int64\n",
            "\n",
            "\n",
            "Bar\n",
            "never    5197\n",
            "less1    3482\n",
            "1~3      2473\n",
            "4~8      1076\n",
            "gt8       349\n",
            "NaN       107\n",
            "Name: count, dtype: int64\n",
            "\n",
            "\n",
            "CoffeeHouse\n",
            "less1    3385\n",
            "1~3      3225\n",
            "never    2962\n",
            "4~8      1784\n",
            "gt8      1111\n",
            "NaN       217\n",
            "Name: count, dtype: int64\n",
            "\n",
            "\n",
            "CarryAway\n",
            "1~3      4672\n",
            "4~8      4258\n",
            "less1    1856\n",
            "gt8      1594\n",
            "never     153\n",
            "NaN       151\n",
            "Name: count, dtype: int64\n",
            "\n",
            "\n",
            "RestaurantLessThan20\n",
            "1~3      5376\n",
            "4~8      3580\n",
            "less1    2093\n",
            "gt8      1285\n",
            "never     220\n",
            "NaN       130\n",
            "Name: count, dtype: int64\n",
            "\n",
            "\n",
            "Restaurant20To50\n",
            "less1    6077\n",
            "1~3      3290\n",
            "never    2136\n",
            "4~8       728\n",
            "gt8       264\n",
            "NaN       189\n",
            "Name: count, dtype: int64\n",
            "\n",
            "\n",
            "toCoupon_GEQ5min\n",
            "1    12684\n",
            "Name: count, dtype: int64\n",
            "\n",
            "\n",
            "toCoupon_GEQ15min\n",
            "1    7122\n",
            "0    5562\n",
            "Name: count, dtype: int64\n",
            "\n",
            "\n",
            "toCoupon_GEQ25min\n",
            "0    11173\n",
            "1     1511\n",
            "Name: count, dtype: int64\n",
            "\n",
            "\n",
            "direction_same\n",
            "0    9960\n",
            "1    2724\n",
            "Name: count, dtype: int64\n",
            "\n",
            "\n",
            "direction_opp\n",
            "1    9960\n",
            "0    2724\n",
            "Name: count, dtype: int64\n",
            "\n",
            "\n",
            "Y\n",
            "1    7210\n",
            "0    5474\n",
            "Name: count, dtype: int64\n",
            "\n",
            "\n"
          ]
        }
      ],
      "source": [
        "for col in data.columns:\n",
        "    ##print(f\"--- {col} ---\")\n",
        "    print(data[col].value_counts(dropna=False))\n",
        "    print(\"\\n\")"
      ]
    },
    {
      "cell_type": "markdown",
      "metadata": {
        "id": "bSdVSpYB_qRH"
      },
      "source": [
        "3. Decide what to do about your missing data -- drop, replace, other..."
      ]
    },
    {
      "cell_type": "code",
      "execution_count": 8,
      "metadata": {},
      "outputs": [
        {
          "data": {
            "text/html": [
              "<div>\n",
              "<style scoped>\n",
              "    .dataframe tbody tr th:only-of-type {\n",
              "        vertical-align: middle;\n",
              "    }\n",
              "\n",
              "    .dataframe tbody tr th {\n",
              "        vertical-align: top;\n",
              "    }\n",
              "\n",
              "    .dataframe thead th {\n",
              "        text-align: right;\n",
              "    }\n",
              "</style>\n",
              "<table border=\"1\" class=\"dataframe\">\n",
              "  <thead>\n",
              "    <tr style=\"text-align: right;\">\n",
              "      <th></th>\n",
              "      <th>destination</th>\n",
              "      <th>passanger</th>\n",
              "      <th>weather</th>\n",
              "      <th>temperature</th>\n",
              "      <th>time</th>\n",
              "      <th>coupon</th>\n",
              "      <th>expiration</th>\n",
              "      <th>gender</th>\n",
              "      <th>age</th>\n",
              "      <th>maritalStatus</th>\n",
              "      <th>has_children</th>\n",
              "      <th>education</th>\n",
              "      <th>occupation</th>\n",
              "      <th>income</th>\n",
              "      <th>Bar</th>\n",
              "      <th>CoffeeHouse</th>\n",
              "      <th>CarryAway</th>\n",
              "      <th>RestaurantLessThan20</th>\n",
              "      <th>Restaurant20To50</th>\n",
              "      <th>toCoupon_GEQ5min</th>\n",
              "      <th>toCoupon_GEQ15min</th>\n",
              "      <th>toCoupon_GEQ25min</th>\n",
              "      <th>direction_same</th>\n",
              "      <th>direction_opp</th>\n",
              "      <th>Y</th>\n",
              "    </tr>\n",
              "  </thead>\n",
              "  <tbody>\n",
              "    <tr>\n",
              "      <th>0</th>\n",
              "      <td>No Urgent Place</td>\n",
              "      <td>Alone</td>\n",
              "      <td>Sunny</td>\n",
              "      <td>55</td>\n",
              "      <td>2PM</td>\n",
              "      <td>Restaurant(&lt;20)</td>\n",
              "      <td>1d</td>\n",
              "      <td>Female</td>\n",
              "      <td>21</td>\n",
              "      <td>Unmarried partner</td>\n",
              "      <td>1</td>\n",
              "      <td>Some college - no degree</td>\n",
              "      <td>Unemployed</td>\n",
              "      <td>$37500 - $49999</td>\n",
              "      <td>never</td>\n",
              "      <td>never</td>\n",
              "      <td>Unknown</td>\n",
              "      <td>4~8</td>\n",
              "      <td>1~3</td>\n",
              "      <td>1</td>\n",
              "      <td>0</td>\n",
              "      <td>0</td>\n",
              "      <td>0</td>\n",
              "      <td>1</td>\n",
              "      <td>1</td>\n",
              "    </tr>\n",
              "    <tr>\n",
              "      <th>1</th>\n",
              "      <td>No Urgent Place</td>\n",
              "      <td>Friend(s)</td>\n",
              "      <td>Sunny</td>\n",
              "      <td>80</td>\n",
              "      <td>10AM</td>\n",
              "      <td>Coffee House</td>\n",
              "      <td>2h</td>\n",
              "      <td>Female</td>\n",
              "      <td>21</td>\n",
              "      <td>Unmarried partner</td>\n",
              "      <td>1</td>\n",
              "      <td>Some college - no degree</td>\n",
              "      <td>Unemployed</td>\n",
              "      <td>$37500 - $49999</td>\n",
              "      <td>never</td>\n",
              "      <td>never</td>\n",
              "      <td>Unknown</td>\n",
              "      <td>4~8</td>\n",
              "      <td>1~3</td>\n",
              "      <td>1</td>\n",
              "      <td>0</td>\n",
              "      <td>0</td>\n",
              "      <td>0</td>\n",
              "      <td>1</td>\n",
              "      <td>0</td>\n",
              "    </tr>\n",
              "    <tr>\n",
              "      <th>2</th>\n",
              "      <td>No Urgent Place</td>\n",
              "      <td>Friend(s)</td>\n",
              "      <td>Sunny</td>\n",
              "      <td>80</td>\n",
              "      <td>10AM</td>\n",
              "      <td>Carry out &amp; Take away</td>\n",
              "      <td>2h</td>\n",
              "      <td>Female</td>\n",
              "      <td>21</td>\n",
              "      <td>Unmarried partner</td>\n",
              "      <td>1</td>\n",
              "      <td>Some college - no degree</td>\n",
              "      <td>Unemployed</td>\n",
              "      <td>$37500 - $49999</td>\n",
              "      <td>never</td>\n",
              "      <td>never</td>\n",
              "      <td>Unknown</td>\n",
              "      <td>4~8</td>\n",
              "      <td>1~3</td>\n",
              "      <td>1</td>\n",
              "      <td>1</td>\n",
              "      <td>0</td>\n",
              "      <td>0</td>\n",
              "      <td>1</td>\n",
              "      <td>1</td>\n",
              "    </tr>\n",
              "    <tr>\n",
              "      <th>3</th>\n",
              "      <td>No Urgent Place</td>\n",
              "      <td>Friend(s)</td>\n",
              "      <td>Sunny</td>\n",
              "      <td>80</td>\n",
              "      <td>2PM</td>\n",
              "      <td>Coffee House</td>\n",
              "      <td>2h</td>\n",
              "      <td>Female</td>\n",
              "      <td>21</td>\n",
              "      <td>Unmarried partner</td>\n",
              "      <td>1</td>\n",
              "      <td>Some college - no degree</td>\n",
              "      <td>Unemployed</td>\n",
              "      <td>$37500 - $49999</td>\n",
              "      <td>never</td>\n",
              "      <td>never</td>\n",
              "      <td>Unknown</td>\n",
              "      <td>4~8</td>\n",
              "      <td>1~3</td>\n",
              "      <td>1</td>\n",
              "      <td>1</td>\n",
              "      <td>0</td>\n",
              "      <td>0</td>\n",
              "      <td>1</td>\n",
              "      <td>0</td>\n",
              "    </tr>\n",
              "    <tr>\n",
              "      <th>4</th>\n",
              "      <td>No Urgent Place</td>\n",
              "      <td>Friend(s)</td>\n",
              "      <td>Sunny</td>\n",
              "      <td>80</td>\n",
              "      <td>2PM</td>\n",
              "      <td>Coffee House</td>\n",
              "      <td>1d</td>\n",
              "      <td>Female</td>\n",
              "      <td>21</td>\n",
              "      <td>Unmarried partner</td>\n",
              "      <td>1</td>\n",
              "      <td>Some college - no degree</td>\n",
              "      <td>Unemployed</td>\n",
              "      <td>$37500 - $49999</td>\n",
              "      <td>never</td>\n",
              "      <td>never</td>\n",
              "      <td>Unknown</td>\n",
              "      <td>4~8</td>\n",
              "      <td>1~3</td>\n",
              "      <td>1</td>\n",
              "      <td>1</td>\n",
              "      <td>0</td>\n",
              "      <td>0</td>\n",
              "      <td>1</td>\n",
              "      <td>0</td>\n",
              "    </tr>\n",
              "  </tbody>\n",
              "</table>\n",
              "</div>"
            ],
            "text/plain": [
              "       destination  passanger weather  temperature  time  \\\n",
              "0  No Urgent Place      Alone   Sunny           55   2PM   \n",
              "1  No Urgent Place  Friend(s)   Sunny           80  10AM   \n",
              "2  No Urgent Place  Friend(s)   Sunny           80  10AM   \n",
              "3  No Urgent Place  Friend(s)   Sunny           80   2PM   \n",
              "4  No Urgent Place  Friend(s)   Sunny           80   2PM   \n",
              "\n",
              "                  coupon expiration  gender age      maritalStatus  \\\n",
              "0        Restaurant(<20)         1d  Female  21  Unmarried partner   \n",
              "1           Coffee House         2h  Female  21  Unmarried partner   \n",
              "2  Carry out & Take away         2h  Female  21  Unmarried partner   \n",
              "3           Coffee House         2h  Female  21  Unmarried partner   \n",
              "4           Coffee House         1d  Female  21  Unmarried partner   \n",
              "\n",
              "   has_children                 education  occupation           income    Bar  \\\n",
              "0             1  Some college - no degree  Unemployed  $37500 - $49999  never   \n",
              "1             1  Some college - no degree  Unemployed  $37500 - $49999  never   \n",
              "2             1  Some college - no degree  Unemployed  $37500 - $49999  never   \n",
              "3             1  Some college - no degree  Unemployed  $37500 - $49999  never   \n",
              "4             1  Some college - no degree  Unemployed  $37500 - $49999  never   \n",
              "\n",
              "  CoffeeHouse CarryAway RestaurantLessThan20 Restaurant20To50  \\\n",
              "0       never   Unknown                  4~8              1~3   \n",
              "1       never   Unknown                  4~8              1~3   \n",
              "2       never   Unknown                  4~8              1~3   \n",
              "3       never   Unknown                  4~8              1~3   \n",
              "4       never   Unknown                  4~8              1~3   \n",
              "\n",
              "   toCoupon_GEQ5min  toCoupon_GEQ15min  toCoupon_GEQ25min  direction_same  \\\n",
              "0                 1                  0                  0               0   \n",
              "1                 1                  0                  0               0   \n",
              "2                 1                  1                  0               0   \n",
              "3                 1                  1                  0               0   \n",
              "4                 1                  1                  0               0   \n",
              "\n",
              "   direction_opp  Y  \n",
              "0              1  1  \n",
              "1              1  0  \n",
              "2              1  1  \n",
              "3              1  0  \n",
              "4              1  0  "
            ]
          },
          "execution_count": 8,
          "metadata": {},
          "output_type": "execute_result"
        }
      ],
      "source": [
        "data = data.drop(columns=['car'])\n",
        "##given that there are 12576 missing values in car column out of 12684 possible total values - this column probably doesn't help us much.\n",
        "\n",
        "cols_to_fill = ['Bar', 'CoffeeHouse', 'CarryAway', 'RestaurantLessThan20', 'Restaurant20To50']\n",
        "data[cols_to_fill] = data[cols_to_fill].fillna('Unknown')\n",
        "##these columns have a few missing values, but not enough to be a problem. I'm filling them with 'Unknown'\n",
        "\n",
        "data.head(5)"
      ]
    },
    {
      "cell_type": "code",
      "execution_count": 9,
      "metadata": {},
      "outputs": [
        {
          "data": {
            "text/plain": [
              "destination             0\n",
              "passanger               0\n",
              "weather                 0\n",
              "temperature             0\n",
              "time                    0\n",
              "coupon                  0\n",
              "expiration              0\n",
              "gender                  0\n",
              "age                     0\n",
              "maritalStatus           0\n",
              "has_children            0\n",
              "education               0\n",
              "occupation              0\n",
              "income                  0\n",
              "Bar                     0\n",
              "CoffeeHouse             0\n",
              "CarryAway               0\n",
              "RestaurantLessThan20    0\n",
              "Restaurant20To50        0\n",
              "toCoupon_GEQ5min        0\n",
              "toCoupon_GEQ15min       0\n",
              "toCoupon_GEQ25min       0\n",
              "direction_same          0\n",
              "direction_opp           0\n",
              "Y                       0\n",
              "dtype: int64"
            ]
          },
          "execution_count": 9,
          "metadata": {},
          "output_type": "execute_result"
        }
      ],
      "source": [
        "data.isnull().sum()\n",
        "##check to make sure there are no missing values anymore"
      ]
    },
    {
      "cell_type": "markdown",
      "metadata": {
        "id": "YE6oJbXd_qRI"
      },
      "source": [
        "4. What proportion of the total observations chose to accept the coupon?\n",
        "\n"
      ]
    },
    {
      "cell_type": "code",
      "execution_count": 10,
      "metadata": {
        "id": "86GGqBTv_qRI"
      },
      "outputs": [
        {
          "name": "stdout",
          "output_type": "stream",
          "text": [
            "Out of 12684 people, 7210 accepted the coupon and 5474 did not. This is a 56.84326710816777% acceptance rate.\n"
          ]
        }
      ],
      "source": [
        "total = len(data)\n",
        "##this is the total number of people in the dataset\n",
        "counts = data['Y'].value_counts()\n",
        "\n",
        "used = counts[1] if 1 in counts else 0\n",
        "not_used = counts[0] if 0 in counts else 0\n",
        "proportion_used = used / (used + not_used)\n",
        "\n",
        "print(f\"Out of {total} people, {used} accepted the coupon and {not_used} did not. This is a {proportion_used*100}% acceptance rate.\")"
      ]
    },
    {
      "cell_type": "markdown",
      "metadata": {
        "id": "vflz0DoE_qRI"
      },
      "source": [
        "5. Use a bar plot to visualize the `coupon` column."
      ]
    },
    {
      "cell_type": "code",
      "execution_count": 11,
      "metadata": {
        "id": "dHFh3E45_qRI"
      },
      "outputs": [
        {
          "data": {
            "image/png": "[encoded data removed]",
            "text/plain": [
              "<Figure size 640x480 with 1 Axes>"
            ]
          },
          "metadata": {},
          "output_type": "display_data"
        }
      ],
      "source": [
        "# Count values in the 'coupon' column\n",
        "coupon_counts = data['coupon'].value_counts()\n",
        "\n",
        "# Plot\n",
        "plt.figure()\n",
        "coupon_counts.plot(kind='bar')\n",
        "plt.title('Distribution of Coupon Types')\n",
        "plt.xlabel('Coupon Type')\n",
        "plt.ylabel('Count')\n",
        "plt.xticks()\n",
        "plt.show()"
      ]
    },
    {
      "cell_type": "markdown",
      "metadata": {
        "id": "Qw4lCyx2_qRI"
      },
      "source": [
        "6. Use a histogram to visualize the temperature column."
      ]
    },
    {
      "cell_type": "code",
      "execution_count": 12,
      "metadata": {
        "id": "Yg9Anv71_qRI"
      },
      "outputs": [
        {
          "data": {
            "image/png": "[encoded data removed]",
            "text/plain": [
              "<Figure size 640x480 with 1 Axes>"
            ]
          },
          "metadata": {},
          "output_type": "display_data"
        }
      ],
      "source": [
        "plt.hist(data['temperature'])\n",
        "plt.title('Distribution of Temperature')\n",
        "plt.xlabel('Temperature')\n",
        "plt.ylabel('Frequency')\n",
        "plt.show()"
      ]
    },
    {
      "cell_type": "code",
      "execution_count": null,
      "metadata": {
        "id": "zLtOaJQk_qRI"
      },
      "outputs": [],
      "source": []
    },
    {
      "cell_type": "code",
      "execution_count": null,
      "metadata": {
        "id": "7GBHZKBp_qRJ"
      },
      "outputs": [],
      "source": []
    },
    {
      "cell_type": "code",
      "execution_count": null,
      "metadata": {
        "id": "Y5nBUA-j_qRJ"
      },
      "outputs": [],
      "source": []
    },
    {
      "cell_type": "code",
      "execution_count": null,
      "metadata": {
        "id": "ShcUC-Vm_qRJ"
      },
      "outputs": [],
      "source": []
    },
    {
      "cell_type": "markdown",
      "metadata": {
        "id": "FupfgeJk_qRJ"
      },
      "source": [
        "**Investigating the Bar Coupons**\n",
        "\n",
        "Now, we will lead you through an exploration of just the bar related coupons.  \n",
        "\n",
        "1. Create a new `DataFrame` that contains just the bar coupons.\n"
      ]
    },
    {
      "cell_type": "code",
      "execution_count": 13,
      "metadata": {
        "id": "tMBlWuGq_qRJ"
      },
      "outputs": [
        {
          "data": {
            "text/html": [
              "<div>\n",
              "<style scoped>\n",
              "    .dataframe tbody tr th:only-of-type {\n",
              "        vertical-align: middle;\n",
              "    }\n",
              "\n",
              "    .dataframe tbody tr th {\n",
              "        vertical-align: top;\n",
              "    }\n",
              "\n",
              "    .dataframe thead th {\n",
              "        text-align: right;\n",
              "    }\n",
              "</style>\n",
              "<table border=\"1\" class=\"dataframe\">\n",
              "  <thead>\n",
              "    <tr style=\"text-align: right;\">\n",
              "      <th></th>\n",
              "      <th>destination</th>\n",
              "      <th>passanger</th>\n",
              "      <th>weather</th>\n",
              "      <th>temperature</th>\n",
              "      <th>time</th>\n",
              "      <th>coupon</th>\n",
              "      <th>expiration</th>\n",
              "      <th>gender</th>\n",
              "      <th>age</th>\n",
              "      <th>maritalStatus</th>\n",
              "      <th>has_children</th>\n",
              "      <th>education</th>\n",
              "      <th>occupation</th>\n",
              "      <th>income</th>\n",
              "      <th>Bar</th>\n",
              "      <th>CoffeeHouse</th>\n",
              "      <th>CarryAway</th>\n",
              "      <th>RestaurantLessThan20</th>\n",
              "      <th>Restaurant20To50</th>\n",
              "      <th>toCoupon_GEQ5min</th>\n",
              "      <th>toCoupon_GEQ15min</th>\n",
              "      <th>toCoupon_GEQ25min</th>\n",
              "      <th>direction_same</th>\n",
              "      <th>direction_opp</th>\n",
              "      <th>Y</th>\n",
              "    </tr>\n",
              "  </thead>\n",
              "  <tbody>\n",
              "    <tr>\n",
              "      <th>9</th>\n",
              "      <td>No Urgent Place</td>\n",
              "      <td>Kid(s)</td>\n",
              "      <td>Sunny</td>\n",
              "      <td>80</td>\n",
              "      <td>10AM</td>\n",
              "      <td>Bar</td>\n",
              "      <td>1d</td>\n",
              "      <td>Female</td>\n",
              "      <td>21</td>\n",
              "      <td>Unmarried partner</td>\n",
              "      <td>1</td>\n",
              "      <td>Some college - no degree</td>\n",
              "      <td>Unemployed</td>\n",
              "      <td>$37500 - $49999</td>\n",
              "      <td>never</td>\n",
              "      <td>never</td>\n",
              "      <td>Unknown</td>\n",
              "      <td>4~8</td>\n",
              "      <td>1~3</td>\n",
              "      <td>1</td>\n",
              "      <td>1</td>\n",
              "      <td>0</td>\n",
              "      <td>0</td>\n",
              "      <td>1</td>\n",
              "      <td>0</td>\n",
              "    </tr>\n",
              "    <tr>\n",
              "      <th>13</th>\n",
              "      <td>Home</td>\n",
              "      <td>Alone</td>\n",
              "      <td>Sunny</td>\n",
              "      <td>55</td>\n",
              "      <td>6PM</td>\n",
              "      <td>Bar</td>\n",
              "      <td>1d</td>\n",
              "      <td>Female</td>\n",
              "      <td>21</td>\n",
              "      <td>Unmarried partner</td>\n",
              "      <td>1</td>\n",
              "      <td>Some college - no degree</td>\n",
              "      <td>Unemployed</td>\n",
              "      <td>$37500 - $49999</td>\n",
              "      <td>never</td>\n",
              "      <td>never</td>\n",
              "      <td>Unknown</td>\n",
              "      <td>4~8</td>\n",
              "      <td>1~3</td>\n",
              "      <td>1</td>\n",
              "      <td>0</td>\n",
              "      <td>0</td>\n",
              "      <td>1</td>\n",
              "      <td>0</td>\n",
              "      <td>1</td>\n",
              "    </tr>\n",
              "    <tr>\n",
              "      <th>17</th>\n",
              "      <td>Work</td>\n",
              "      <td>Alone</td>\n",
              "      <td>Sunny</td>\n",
              "      <td>55</td>\n",
              "      <td>7AM</td>\n",
              "      <td>Bar</td>\n",
              "      <td>1d</td>\n",
              "      <td>Female</td>\n",
              "      <td>21</td>\n",
              "      <td>Unmarried partner</td>\n",
              "      <td>1</td>\n",
              "      <td>Some college - no degree</td>\n",
              "      <td>Unemployed</td>\n",
              "      <td>$37500 - $49999</td>\n",
              "      <td>never</td>\n",
              "      <td>never</td>\n",
              "      <td>Unknown</td>\n",
              "      <td>4~8</td>\n",
              "      <td>1~3</td>\n",
              "      <td>1</td>\n",
              "      <td>1</td>\n",
              "      <td>1</td>\n",
              "      <td>0</td>\n",
              "      <td>1</td>\n",
              "      <td>0</td>\n",
              "    </tr>\n",
              "    <tr>\n",
              "      <th>24</th>\n",
              "      <td>No Urgent Place</td>\n",
              "      <td>Friend(s)</td>\n",
              "      <td>Sunny</td>\n",
              "      <td>80</td>\n",
              "      <td>10AM</td>\n",
              "      <td>Bar</td>\n",
              "      <td>1d</td>\n",
              "      <td>Male</td>\n",
              "      <td>21</td>\n",
              "      <td>Single</td>\n",
              "      <td>0</td>\n",
              "      <td>Bachelors degree</td>\n",
              "      <td>Architecture &amp; Engineering</td>\n",
              "      <td>$62500 - $74999</td>\n",
              "      <td>never</td>\n",
              "      <td>less1</td>\n",
              "      <td>4~8</td>\n",
              "      <td>4~8</td>\n",
              "      <td>less1</td>\n",
              "      <td>1</td>\n",
              "      <td>0</td>\n",
              "      <td>0</td>\n",
              "      <td>0</td>\n",
              "      <td>1</td>\n",
              "      <td>1</td>\n",
              "    </tr>\n",
              "    <tr>\n",
              "      <th>35</th>\n",
              "      <td>Home</td>\n",
              "      <td>Alone</td>\n",
              "      <td>Sunny</td>\n",
              "      <td>55</td>\n",
              "      <td>6PM</td>\n",
              "      <td>Bar</td>\n",
              "      <td>1d</td>\n",
              "      <td>Male</td>\n",
              "      <td>21</td>\n",
              "      <td>Single</td>\n",
              "      <td>0</td>\n",
              "      <td>Bachelors degree</td>\n",
              "      <td>Architecture &amp; Engineering</td>\n",
              "      <td>$62500 - $74999</td>\n",
              "      <td>never</td>\n",
              "      <td>less1</td>\n",
              "      <td>4~8</td>\n",
              "      <td>4~8</td>\n",
              "      <td>less1</td>\n",
              "      <td>1</td>\n",
              "      <td>0</td>\n",
              "      <td>0</td>\n",
              "      <td>1</td>\n",
              "      <td>0</td>\n",
              "      <td>1</td>\n",
              "    </tr>\n",
              "  </tbody>\n",
              "</table>\n",
              "</div>"
            ],
            "text/plain": [
              "        destination  passanger weather  temperature  time coupon expiration  \\\n",
              "9   No Urgent Place     Kid(s)   Sunny           80  10AM    Bar         1d   \n",
              "13             Home      Alone   Sunny           55   6PM    Bar         1d   \n",
              "17             Work      Alone   Sunny           55   7AM    Bar         1d   \n",
              "24  No Urgent Place  Friend(s)   Sunny           80  10AM    Bar         1d   \n",
              "35             Home      Alone   Sunny           55   6PM    Bar         1d   \n",
              "\n",
              "    gender age      maritalStatus  has_children                 education  \\\n",
              "9   Female  21  Unmarried partner             1  Some college - no degree   \n",
              "13  Female  21  Unmarried partner             1  Some college - no degree   \n",
              "17  Female  21  Unmarried partner             1  Some college - no degree   \n",
              "24    Male  21             Single             0          Bachelors degree   \n",
              "35    Male  21             Single             0          Bachelors degree   \n",
              "\n",
              "                    occupation           income    Bar CoffeeHouse CarryAway  \\\n",
              "9                   Unemployed  $37500 - $49999  never       never   Unknown   \n",
              "13                  Unemployed  $37500 - $49999  never       never   Unknown   \n",
              "17                  Unemployed  $37500 - $49999  never       never   Unknown   \n",
              "24  Architecture & Engineering  $62500 - $74999  never       less1       4~8   \n",
              "35  Architecture & Engineering  $62500 - $74999  never       less1       4~8   \n",
              "\n",
              "   RestaurantLessThan20 Restaurant20To50  toCoupon_GEQ5min  toCoupon_GEQ15min  \\\n",
              "9                   4~8              1~3                 1                  1   \n",
              "13                  4~8              1~3                 1                  0   \n",
              "17                  4~8              1~3                 1                  1   \n",
              "24                  4~8            less1                 1                  0   \n",
              "35                  4~8            less1                 1                  0   \n",
              "\n",
              "    toCoupon_GEQ25min  direction_same  direction_opp  Y  \n",
              "9                   0               0              1  0  \n",
              "13                  0               1              0  1  \n",
              "17                  1               0              1  0  \n",
              "24                  0               0              1  1  \n",
              "35                  0               1              0  1  "
            ]
          },
          "execution_count": 13,
          "metadata": {},
          "output_type": "execute_result"
        }
      ],
      "source": [
        "bar_coupon_df = data[data['coupon'] == 'Bar']\n",
        "bar_coupon_df.head(5)"
      ]
    },
    {
      "cell_type": "markdown",
      "metadata": {
        "id": "8ue6uCqf_qRJ"
      },
      "source": [
        "2. What proportion of bar coupons were accepted?\n"
      ]
    },
    {
      "cell_type": "code",
      "execution_count": 14,
      "metadata": {
        "id": "hSdte8Mi_qRK"
      },
      "outputs": [
        {
          "name": "stdout",
          "output_type": "stream",
          "text": [
            "Out of 2017 people who were offered bar coupons, 827 accepted the bar coupons and 1190 did not. This is a 41.00148735746158% acceptance rate.\n"
          ]
        }
      ],
      "source": [
        "total = len(bar_coupon_df)\n",
        "##this is the total number of people in the dataset\n",
        "bar_counts = bar_coupon_df['Y'].value_counts()\n",
        "##in column \"Y\", this tracks an array of Series type - frequency of each response. bar_counts[0] is for unaccepted coupons, bar_counts[1] is for accepted coupons.\n",
        "\n",
        "# print(bar_counts)\n",
        "# used_bar = 0\n",
        "# if 1 in bar_counts:\n",
        "#     used_bar += 1\n",
        "    ##bar_counts[1]\n",
        "\n",
        "used_bar = bar_counts[1] if 1 in bar_counts else 0\n",
        "not_used_bar = bar_counts[0] if 0 in bar_counts else 0\n",
        "proportion_used_bar = used_bar / (used_bar + not_used_bar)\n",
        "\n",
        "print(f\"Out of {total} people who were offered bar coupons, {used_bar} accepted the bar coupons and {not_used_bar} did not. This is a {proportion_used_bar*100}% acceptance rate.\")"
      ]
    },
    {
      "cell_type": "code",
      "execution_count": 15,
      "metadata": {},
      "outputs": [
        {
          "name": "stdout",
          "output_type": "stream",
          "text": [
            "Y\n",
            "0    1190\n",
            "1     827\n",
            "Name: count, dtype: int64\n",
            "827\n",
            "1190\n"
          ]
        }
      ],
      "source": [
        "#this cell is just exploratory and helps explain the logic behind one liner conditionals as seen above\n",
        "\n",
        "bar_counts_test = bar_coupon_df['Y'].value_counts()\n",
        "print(bar_counts_test)\n",
        "\n",
        "if 1 in bar_counts_test:\n",
        "    used_bar_test = bar_counts_test[1]\n",
        "else:\n",
        "    used_bar_test = 0\n",
        "\n",
        "if 0 in bar_counts_test:\n",
        "    not_used_bar_test = bar_counts_test[0]\n",
        "else:\n",
        "    not_used_bar_test = 0\n",
        "    \n",
        "print(used_bar_test)\n",
        "print(not_used_bar_test)"
      ]
    },
    {
      "cell_type": "markdown",
      "metadata": {
        "id": "85nA_iEi_qRK"
      },
      "source": [
        "3. Compare the acceptance rate between those who went to a bar 3 or fewer times a month to those who went more.\n"
      ]
    },
    {
      "cell_type": "code",
      "execution_count": 16,
      "metadata": {
        "id": "LBOrN-XM_qRK"
      },
      "outputs": [
        {
          "name": "stdout",
          "output_type": "stream",
          "text": [
            "Bar\n",
            "never      830\n",
            "less1      570\n",
            "1~3        397\n",
            "4~8        150\n",
            "gt8         49\n",
            "Unknown     21\n",
            "Name: count, dtype: int64\n"
          ]
        }
      ],
      "source": [
        "print(bar_coupon_df[\"Bar\"].value_counts(dropna=False))"
      ]
    },
    {
      "cell_type": "code",
      "execution_count": 17,
      "metadata": {},
      "outputs": [],
      "source": [
        "# Define clear, known groups. We ignore the unknowns because they're not relevant to our analysis.\n",
        "bar_3_or_fewer = ['never', 'less1', '1~3']\n",
        "bar_more_than_3 = ['4~8', 'gt8']\n",
        "\n",
        "#filter out unknowns from the dataset\n",
        "bar_known = bar_coupon_df[bar_coupon_df['Bar'] != 'Unknown']\n",
        "\n",
        "#create two smaller dataframes for the two groups\n",
        "bar_3_or_fewer_df = bar_known[bar_known['Bar'].isin(bar_3_or_fewer)]\n",
        "bar_more_than_3_df = bar_known[bar_known['Bar'].isin(bar_more_than_3)]\n"
      ]
    },
    {
      "cell_type": "code",
      "execution_count": 18,
      "metadata": {},
      "outputs": [],
      "source": [
        "##bar_3_or_fewer_df.head(20)\n",
        "##bar_3_or_fewer_df.shape\n",
        "##bar_more_than_3_df.shape"
      ]
    },
    {
      "cell_type": "code",
      "execution_count": 19,
      "metadata": {},
      "outputs": [
        {
          "name": "stdout",
          "output_type": "stream",
          "text": [
            "666\n",
            "1131\n",
            "1797\n",
            "153\n",
            "46\n",
            "199\n"
          ]
        }
      ],
      "source": [
        "accepted_3_or_fewer = bar_3_or_fewer_df['Y'].value_counts().get(1, 0)\n",
        "not_accepted_3_or_fewer = bar_3_or_fewer_df['Y'].value_counts().get(0, 0)\n",
        "proportion_used_3orless = accepted_3_or_fewer / (accepted_3_or_fewer + not_accepted_3_or_fewer)\n",
        "\n",
        "print(accepted_3_or_fewer)\n",
        "print(not_accepted_3_or_fewer)\n",
        "print(accepted_3_or_fewer + not_accepted_3_or_fewer)\n",
        "\n",
        "accepted_morethan3 = bar_more_than_3_df['Y'].value_counts().get(1, 0)\n",
        "not_accepted_morethan3 = bar_more_than_3_df['Y'].value_counts().get(0, 0)\n",
        "proportion_used_morethan3 = accepted_morethan3 / (accepted_morethan3 + not_accepted_morethan3)\n",
        "\n",
        "print(accepted_morethan3)\n",
        "print(not_accepted_morethan3)\n",
        "print(accepted_morethan3 + not_accepted_morethan3)"
      ]
    },
    {
      "cell_type": "code",
      "execution_count": 20,
      "metadata": {},
      "outputs": [
        {
          "name": "stdout",
          "output_type": "stream",
          "text": [
            "Out of 1797 people who went to a bar 3 or fewer times, 666 accepted the coupon and 1131 did not. This is a 37.061769616026716% acceptance rate.\n",
            "Out of 199 people who went to a bar more than 3 times, 153 accepted the coupon and 46 did not. This is a 76.88442211055276% acceptance rate.\n"
          ]
        }
      ],
      "source": [
        "print(f\"Out of {len(bar_3_or_fewer_df)} people who went to a bar 3 or fewer times, {accepted_3_or_fewer} accepted the coupon and {not_accepted_3_or_fewer} did not. This is a {proportion_used_3orless*100}% acceptance rate.\")\n",
        "print(f\"Out of {len(bar_more_than_3_df)} people who went to a bar more than 3 times, {accepted_morethan3} accepted the coupon and {not_accepted_morethan3} did not. This is a {proportion_used_morethan3*100}% acceptance rate.\")"
      ]
    },
    {
      "cell_type": "markdown",
      "metadata": {},
      "source": []
    },
    {
      "cell_type": "markdown",
      "metadata": {
        "id": "RBgcQwH4_qRK"
      },
      "source": [
        "4. Compare the acceptance rate between drivers who go to a bar more than once a month and are over the age of 25 to the all others.  Is there a difference?\n"
      ]
    },
    {
      "cell_type": "code",
      "execution_count": 21,
      "metadata": {},
      "outputs": [
        {
          "name": "stdout",
          "output_type": "stream",
          "text": [
            "['21' '46' '26' '31' '41' '50plus' '36' 'below21']\n",
            "age\n",
            "21         2653\n",
            "26         2559\n",
            "31         2039\n",
            "50plus     1788\n",
            "36         1319\n",
            "41         1093\n",
            "46          686\n",
            "below21     547\n",
            "Name: count, dtype: int64\n"
          ]
        }
      ],
      "source": [
        "print(data['age'].unique())\n",
        "print(data['age'].value_counts())\n",
        "##this establishes not only what distinct values exist in the Age column, but also how frequent they are. Helps us stratify."
      ]
    },
    {
      "cell_type": "code",
      "execution_count": 22,
      "metadata": {},
      "outputs": [],
      "source": [
        "def age_mapping(age_str):\n",
        "    if age_str in ['below21', '21']:\n",
        "        return 24\n",
        "    else:\n",
        "        return 25\n",
        "#this method helps us separate 25 and overs from those who aren't, in integer format for cleaner processing."
      ]
    },
    {
      "cell_type": "code",
      "execution_count": 23,
      "metadata": {
        "id": "bf28bbeX_qRK"
      },
      "outputs": [],
      "source": [
        "bar_morethan1 = ['1~3', '4~8', 'gt8']\n",
        "data['age_mapped'] = data['age'].apply(age_mapping)\n",
        "#age_mapping function then gets applied to the entirety of the Age column in a new column Age_mapped. Helps us below to split the dataframe into two smaller dataframes relevant to our query.\n",
        "\n",
        "# Group 1: Bar > once a month AND age > 25\n",
        "group1 = data[(data['Bar'].isin(bar_morethan1)) & (data['age_mapped'] >= 25)]\n",
        "\n",
        "# Group 2: Everyone else. The ~ indicates NOT in this category.\n",
        "group2 = data[~((data['Bar'].isin(bar_morethan1)) & (data['age_mapped'] >= 25))]"
      ]
    },
    {
      "cell_type": "code",
      "execution_count": 24,
      "metadata": {},
      "outputs": [
        {
          "name": "stdout",
          "output_type": "stream",
          "text": [
            "2777\n",
            "1726\n",
            "9907\n",
            "5484\n",
            "12684\n"
          ]
        }
      ],
      "source": [
        "# Group 1\n",
        "g1_total = len(group1)\n",
        "g1_accepted = group1['Y'].value_counts().get(1, 0)\n",
        "g1_acceptance_rate = g1_accepted / g1_total\n",
        "print(g1_total)\n",
        "print(g1_accepted)\n",
        "\n",
        "# Group 2\n",
        "g2_total = len(group2)\n",
        "g2_accepted = group2['Y'].value_counts().get(1, 0)\n",
        "g2_acceptance_rate = g2_accepted / g2_total\n",
        "print(g2_total)\n",
        "print(g2_accepted)\n",
        "\n",
        "print(g1_total + g2_total) #this verifies the datasets are indeed indexed correctly: as this number should add up to 12684"
      ]
    },
    {
      "cell_type": "code",
      "execution_count": 25,
      "metadata": {},
      "outputs": [
        {
          "name": "stdout",
          "output_type": "stream",
          "text": [
            "Out of 2777 people who went to a bar more than 1x a month and are above the age of 25, 1726 accepted the coupon. This is a 62.15340295282679% acceptance rate.\n",
            "Out of 9907 people who fall outside of aforementioned population, 5484 accepted the coupon. This is a 55.35479963662057% acceptance rate.\n"
          ]
        }
      ],
      "source": [
        "print(f\"Out of {g1_total} people who went to a bar more than 1x a month and are above the age of 25, {g1_accepted} accepted the coupon. This is a {g1_acceptance_rate*100}% acceptance rate.\")\n",
        "print(f\"Out of {g2_total} people who fall outside of aforementioned population, {g2_accepted} accepted the coupon. This is a {g2_acceptance_rate*100}% acceptance rate.\")"
      ]
    },
    {
      "cell_type": "markdown",
      "metadata": {
        "id": "S4RKT4PJ_qRK"
      },
      "source": [
        "5. Use the same process to compare the acceptance rate between drivers who go to bars more than once a month and had passengers that were not a kid and had occupations other than farming, fishing, or forestry.\n"
      ]
    },
    {
      "cell_type": "code",
      "execution_count": 26,
      "metadata": {
        "id": "sENaI2Tg_qRK"
      },
      "outputs": [],
      "source": [
        "bar_morethan1 = ['1~3', '4~8', 'gt8']\n",
        "excluded_occupations = ['farming', 'fishing', 'forestry']\n",
        "\n",
        "# Filter for passengers not kids:\n",
        "# Assuming 'Kid(s)' or similar string for kids - adjust if needed\n",
        "not_kids = data['passanger'] != 'Kid(s)'\n",
        "\n",
        "# Filter for occupations NOT in the excluded list\n",
        "not_farm_fish_forestry = ~data['occupation'].isin(excluded_occupations)\n",
        "\n",
        "# Combine all filters:\n",
        "group3 = data[\n",
        "    (data['Bar'].isin(bar_morethan1)) &\n",
        "    not_kids &\n",
        "    not_farm_fish_forestry\n",
        "]\n",
        "\n",
        "# everyone else\n",
        "group4 = data[~(\n",
        "    (data['Bar'].isin(bar_morethan1)) &\n",
        "    not_kids &\n",
        "    not_farm_fish_forestry\n",
        ")]"
      ]
    },
    {
      "cell_type": "code",
      "execution_count": 27,
      "metadata": {},
      "outputs": [
        {
          "name": "stdout",
          "output_type": "stream",
          "text": [
            "3696\n",
            "1726\n",
            "8988\n",
            "4907\n",
            "12684\n"
          ]
        }
      ],
      "source": [
        "# Group 3 acceptance\n",
        "g3_total = len(group3)\n",
        "g3_accepted = group1['Y'].value_counts().get(1, 0)\n",
        "g3_acceptance_rate = g3_accepted / g3_total\n",
        "print(g3_total)\n",
        "print(g3_accepted)\n",
        "\n",
        "# Group 4 acceptance\n",
        "g4_total = len(group4)\n",
        "g4_accepted = group4['Y'].value_counts().get(1, 0)\n",
        "g4_acceptance_rate = g4_accepted / g4_total\n",
        "print(g4_total)\n",
        "print(g4_accepted)\n",
        "\n",
        "print(g3_total+g4_total) #this verifies the datasets are indeed indexed correctly: as this number should add up to 12684"
      ]
    },
    {
      "cell_type": "code",
      "execution_count": 28,
      "metadata": {},
      "outputs": [
        {
          "name": "stdout",
          "output_type": "stream",
          "text": [
            "Out of 3696 drivers who went to a bar more than 1x a month, had no kid passengers, and did not work in farming/fishing/forestry, 1726 accepted the coupon. This is a 46.6991341991342% acceptance rate.\n",
            "Out of 8988 drivers who who fall outside of aforementioned population, 4907 accepted the coupon. This is a 54.59501557632399% acceptance rate.\n"
          ]
        }
      ],
      "source": [
        "print(f\"Out of {g3_total} drivers who went to a bar more than 1x a month, had no kid passengers, and did not work in farming/fishing/forestry, {g3_accepted} accepted the coupon. This is a {g3_acceptance_rate*100}% acceptance rate.\")\n",
        "print(f\"Out of {g4_total} drivers who who fall outside of aforementioned population, {g4_accepted} accepted the coupon. This is a {g4_acceptance_rate*100}% acceptance rate.\")"
      ]
    },
    {
      "cell_type": "markdown",
      "metadata": {
        "id": "n2LIUTil_qRK"
      },
      "source": [
        "6. Compare the acceptance rates between those drivers who:\n",
        "\n",
        "- go to bars more than once a month, had passengers that were not a kid, and were not widowed *OR*\n",
        "- go to bars more than once a month and are under the age of 30 *OR*\n",
        "- go to cheap restaurants more than 4 times a month and income is less than 50K.\n",
        "\n"
      ]
    },
    {
      "cell_type": "code",
      "execution_count": 29,
      "metadata": {
        "id": "aK_wEzx7_qRK"
      },
      "outputs": [
        {
          "name": "stdout",
          "output_type": "stream",
          "text": [
            "Group 5 size: 3696\n",
            "Group 6 size: 2272\n",
            "Group 7 size: 2279\n",
            "Combined group size: 5152\n",
            "Rest of drivers size: 7532\n",
            "\n",
            "The population that's relevant to answering this question is: folks who go to bars more than once a month, had passengers that were not a kid, and were not widowed,\n",
            "OR go to bars more than once a month and are under the age of 30,\n",
            "OR go to cheap restaurants more than 4 times a month and income is less than 50K.\n",
            "\n",
            "Out of 5152 drivers who fit the aforementioned criteria as listed in the problem, 3119 accepted the coupon. This is a 60.53959627329193% acceptance rate.\n",
            "Out of 7532 drivers who who fall outside of aforementioned population, 4091 accepted the coupon. This is a 54.31492299522039% acceptance rate.\n"
          ]
        }
      ],
      "source": [
        "def age_mapping_under30(age_str):\n",
        "    if age_str in ['below21', '21', '26']:\n",
        "        return 29\n",
        "    else:\n",
        "        return 30\n",
        "#this method helps us separate 30 and overs from those who aren't, in integer format for cleaner processing.\n",
        "\n",
        "data['age_mapped'] = data['age'].apply(age_mapping_under30)\n",
        "\n",
        "bar_freq = ['1~3', '4~8', 'gt8']\n",
        "# STEP 2: Group 5 - Bar goers more than once/month, not kids, not widowed\n",
        "group5 = (\n",
        "    (data['Bar'].isin(bar_freq)) &\n",
        "    (data['passanger'] != 'Kid(s)') &\n",
        "    (data['maritalStatus'] != 'Widowed')\n",
        ")\n",
        "\n",
        "# STEP 3: Group 6 - Bar goers more than once/month AND age under 30\n",
        "group6 = (\n",
        "    (data['Bar'].isin(bar_freq)) &\n",
        "    (data['age_mapped'] < 30)\n",
        ")\n",
        "\n",
        "\n",
        "cheap_rest_freq = ['4~8', 'gt8']\n",
        "low_income = [\n",
        "    'Less than $12500',\n",
        "    '$12500 - $24999',\n",
        "    '$25000 - $37499',\n",
        "    '$37500 - $49999'\n",
        "]\n",
        "\n",
        "# STEP 4: Group 7 - Cheap restaurants more than 4x/month AND low income\n",
        "group7 = (\n",
        "    (data['RestaurantLessThan20'].isin(cheap_rest_freq)) &\n",
        "    (data['income'].isin(low_income))\n",
        ")\n",
        "\n",
        "# STEP 5: Combine groups\n",
        "group_567_combined = group5 | group6 | group7\n",
        "\n",
        "# STEP 6: Final splits\n",
        "combined_567 = data[group_567_combined]\n",
        "rest_of_drivers = data[~group_567_combined]\n",
        "\n",
        "print(\"Group 5 size:\", group5.sum())\n",
        "print(\"Group 6 size:\", group6.sum())\n",
        "print(\"Group 7 size:\", group7.sum())\n",
        "print(\"Combined group size:\", combined_567.shape[0])\n",
        "print(\"Rest of drivers size:\", rest_of_drivers.shape[0])\n",
        "\n",
        "# Acceptance rate = # of Yes / Total in group\n",
        "\n",
        "acceptance_rate_567 = combined_567['Y'].value_counts().get(1, 0) / combined_567.shape[0]\n",
        "acceptance_rate_rest = rest_of_drivers['Y'].value_counts().get(1, 0) / rest_of_drivers.shape[0]\n",
        "\n",
        "print(\"\\nThe population that's relevant to answering this question is: folks who go to bars more than once a month, had passengers that were not a kid, and were not widowed,\\nOR go to bars more than once a month and are under the age of 30,\\nOR go to cheap restaurants more than 4 times a month and income is less than 50K.\\n\")\n",
        "print(f\"Out of {combined_567.shape[0]} drivers who fit the aforementioned criteria as listed in the problem, {combined_567['Y'].value_counts().get(1, 0)} accepted the coupon. This is a {acceptance_rate_567*100}% acceptance rate.\")\n",
        "print(f\"Out of {rest_of_drivers.shape[0]} drivers who who fall outside of aforementioned population, {rest_of_drivers['Y'].value_counts().get(1, 0)} accepted the coupon. This is a {acceptance_rate_rest*100}% acceptance rate.\")"
      ]
    },
    {
      "cell_type": "markdown",
      "metadata": {
        "id": "v3fL3QkO_qRK"
      },
      "source": [
        "7.  Based on these observations, what do you hypothesize about drivers who accepted the bar coupons?"
      ]
    },
    {
      "cell_type": "code",
      "execution_count": 30,
      "metadata": {
        "id": "Y48naDFh_qRL"
      },
      "outputs": [
        {
          "name": "stdout",
          "output_type": "stream",
          "text": [
            "Drivers who accepted the bar coupons tend to be more frequent bar-goers, especially those who visit bars more than once a month.\n",
            "They are more likely to be younger (under 30) and have social situations where they travel without kids as passengers.\n",
            "Additionally, acceptance rates are higher among drivers who visit inexpensive restaurants more than four times a month and have a lower income (under $50K).\n",
            "This suggests that drivers who are more socially active and possibly more budget-conscious are more receptive to bar coupon offers.\n",
            "Marital status, specifically not being widowed, also seems to be a factor, indicating that drivers with active social lives may be more likely to accept the coupons.\n",
            "In summary, drivers who accept bar coupons are likely to be younger, socially engaged, frequently visit bars or affordable restaurants, and may be more financially motivated by discounts or deals.\n"
          ]
        }
      ],
      "source": [
        "print(\"Drivers who accepted the bar coupons tend to be more frequent bar-goers, especially those who visit bars more than once a month.\\nThey are more likely to be younger (under 30) and have social situations where they travel without kids as passengers.\\nAdditionally, acceptance rates are higher among drivers who visit inexpensive restaurants more than four times a month and have a lower income (under $50K).\\nThis suggests that drivers who are more socially active and possibly more budget-conscious are more receptive to bar coupon offers.\\nMarital status, specifically not being widowed, also seems to be a factor, indicating that drivers with active social lives may be more likely to accept the coupons.\")\n",
        "\n",
        "print(\"In summary, drivers who accept bar coupons are likely to be younger, socially engaged, frequently visit bars or affordable restaurants, and may be more financially motivated by discounts or deals.\")"
      ]
    },
    {
      "cell_type": "markdown",
      "metadata": {
        "id": "r4Hu1zOb_qRL"
      },
      "source": [
        "### Independent Investigation\n",
        "\n",
        "Using the bar coupon example as motivation, you are to explore one of the other coupon groups and try to determine the characteristics of passengers who accept the coupons.  "
      ]
    },
    {
      "cell_type": "code",
      "execution_count": 31,
      "metadata": {
        "id": "0c71cQhu_qRL"
      },
      "outputs": [
        {
          "name": "stderr",
          "output_type": "stream",
          "text": [
            "/var/folders/gn/_y4t4m556xz21tsbhxt3lp300000gn/T/ipykernel_49127/759795449.py:4: SettingWithCopyWarning: \n",
            "A value is trying to be set on a copy of a slice from a DataFrame.\n",
            "Try using .loc[row_indexer,col_indexer] = value instead\n",
            "\n",
            "See the caveats in the documentation: https://pandas.pydata.org/pandas-docs/stable/user_guide/indexing.html#returning-a-view-versus-a-copy\n",
            "  coffee_df['age_mappedunder30'] = coffee_df['age'].apply(age_mapping_under30)\n"
          ]
        }
      ],
      "source": [
        "coffee_df = data[data['coupon'] == 'Coffee House']\n",
        "\n",
        "# Create a new column for age mapping\n",
        "coffee_df['age_mappedunder30'] = coffee_df['age'].apply(age_mapping_under30)\n",
        "\n",
        "# Define population of interest\n",
        "coffee_lovers = coffee_df[\n",
        "    (coffee_df['CoffeeHouse'].isin(['4~8', 'gt8'])) &\n",
        "    (coffee_df['age_mappedunder30'] < 30) &\n",
        "    (~coffee_df['passanger'].str.contains('Kid', na=False))\n",
        "]\n",
        "\n",
        "non_coffee_lovers = coffee_df[~coffee_df.index.isin(coffee_lovers.index)]"
      ]
    },
    {
      "cell_type": "code",
      "execution_count": 32,
      "metadata": {},
      "outputs": [
        {
          "name": "stdout",
          "output_type": "stream",
          "text": [
            "Total passengers offered Coffee House coupons: 3996\n",
            "accepted by 1995 people\n",
            "rejected by 2001 people\n",
            "acceptance rate 49.92492492492492%\n"
          ]
        }
      ],
      "source": [
        "total = len(coffee_df)\n",
        "accepted = len(coffee_df[coffee_df['Y'] == 1])\n",
        "rejected = len(coffee_df[coffee_df['Y'] == 0])\n",
        "acceptance_rate = accepted / total * 100\n",
        "print(f\"Total passengers offered Coffee House coupons: {total}\")\n",
        "print(f\"accepted by {accepted} people\")\n",
        "print(f\"rejected by {rejected} people\")\n",
        "print(f\"acceptance rate {acceptance_rate}%\")"
      ]
    },
    {
      "cell_type": "code",
      "execution_count": 33,
      "metadata": {},
      "outputs": [
        {
          "name": "stdout",
          "output_type": "stream",
          "text": [
            "\n",
            "Among young frequent coffee drinkers (under 30, no kids, visits 4+ times/month):\n",
            "→ Total: 410\n",
            "→ Accepted the coupon: 282 (68.78048780487805% acceptance rate)\n"
          ]
        }
      ],
      "source": [
        "# Stats for population of interest\n",
        "coffee_lovers_total = len(coffee_lovers)\n",
        "coffee_lovers_accept = len(coffee_lovers[coffee_lovers['Y'] == 1])\n",
        "coffee_lovers_rate = coffee_lovers_accept / coffee_lovers_total * 100 if coffee_lovers_total > 0 else 0\n",
        "\n",
        "print(\"\\nAmong young frequent coffee drinkers (under 30, no kids, visits 4+ times/month):\")\n",
        "print(f\"→ Total: {coffee_lovers_total}\")\n",
        "print(f\"→ Accepted the coupon: {coffee_lovers_accept} ({coffee_lovers_rate}% acceptance rate)\")"
      ]
    },
    {
      "cell_type": "code",
      "execution_count": 34,
      "metadata": {},
      "outputs": [
        {
          "name": "stdout",
          "output_type": "stream",
          "text": [
            "\n",
            "Among everyone else:\n",
            "→ Total: 3586\n",
            "→ Accepted the coupon: 1713 (47.76910206358059% acceptance rate)\n"
          ]
        }
      ],
      "source": [
        "# Stats for non-target group\n",
        "non_coffee_lovers_total = len(non_coffee_lovers)\n",
        "non_coffee_lovers_accept = len(non_coffee_lovers[non_coffee_lovers['Y'] == 1])\n",
        "non_coffee_lovers_rate = non_coffee_lovers_accept / non_coffee_lovers_total * 100 if non_coffee_lovers_total > 0 else 0\n",
        "\n",
        "print(\"\\nAmong everyone else:\")\n",
        "print(f\"→ Total: {non_coffee_lovers_total}\")\n",
        "print(f\"→ Accepted the coupon: {non_coffee_lovers_accept} ({non_coffee_lovers_rate}% acceptance rate)\")"
      ]
    },
    {
      "cell_type": "code",
      "execution_count": 35,
      "metadata": {},
      "outputs": [
        {
          "name": "stdout",
          "output_type": "stream",
          "text": [
            "Summary:\n",
            "Out of 3,996 passengers offered Coffee House coupons, about half (49.9%) accepted the offer.\n",
            "\n",
            "Among young, frequent coffee drinkers under 30 years old with no kids who visit coffee shops 4 or more times per month, the acceptance rate was much higher at 68.78%.\n",
            "\n",
            "In contrast, everyone else had a significantly lower acceptance rate of 47.769%.\n",
            "\n",
            "This suggests that younger frequent coffee drinkers without children are substantially more likely to accept Coffee House coupons compared to the general population.\n"
          ]
        }
      ],
      "source": [
        "print(\n",
        "    \"Summary:\\n\"\n",
        "    \"Out of 3,996 passengers offered Coffee House coupons, about half (49.9%) accepted the offer.\\n\\n\"\n",
        "    \"Among young, frequent coffee drinkers under 30 years old with no kids who visit coffee shops 4 or more times per month, \"\n",
        "    \"the acceptance rate was much higher at 68.78%.\\n\\n\"\n",
        "    \"In contrast, everyone else had a significantly lower acceptance rate of 47.769%.\\n\\n\"\n",
        "    \"This suggests that younger frequent coffee drinkers without children are substantially more likely to accept Coffee House coupons \"\n",
        "    \"compared to the general population.\"\n",
        ")"
      ]
    }
  ],
  "metadata": {
    "colab": {
      "provenance": []
    },
    "kernelspec": {
      "display_name": "base",
      "language": "python",
      "name": "python3"
    },
    "language_info": {
      "codemirror_mode": {
        "name": "ipython",
        "version": 3
      },
      "file_extension": ".py",
      "mimetype": "text/x-python",
      "name": "python",
      "nbconvert_exporter": "python",
      "pygments_lexer": "ipython3",
      "version": "3.12.2"
    }
  },
  "nbformat": 4,
  "nbformat_minor": 0
}
